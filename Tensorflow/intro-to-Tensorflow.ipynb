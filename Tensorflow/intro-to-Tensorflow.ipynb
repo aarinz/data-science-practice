{
 "cells": [
  {
   "cell_type": "code",
   "execution_count": 1,
   "id": "a8fc0b0b-899e-48b4-9c86-5ee8c0a6bdd4",
   "metadata": {},
   "outputs": [
    {
     "name": "stdout",
     "output_type": "stream",
     "text": [
      "<module 'tensorflow._api.v2.version' from 'C:\\\\Users\\\\Aarin Zacharia\\\\AppData\\\\Local\\\\Programs\\\\Python\\\\Python311\\\\Lib\\\\site-packages\\\\tensorflow\\\\_api\\\\v2\\\\version\\\\__init__.py'>\n"
     ]
    }
   ],
   "source": [
    "import tensorflow as tf \n",
    "print(tf.version)"
   ]
  },
  {
   "cell_type": "markdown",
   "id": "45d9cc4e-48bd-4e91-913e-a582dd61d3b7",
   "metadata": {},
   "source": [
    "Tensors"
   ]
  },
  {
   "cell_type": "code",
   "execution_count": 3,
   "id": "c01bf145-284d-4202-a734-4b6b657fbffb",
   "metadata": {},
   "outputs": [],
   "source": [
    "string = tf.Variable(\"this is string\" ,tf.string)\n",
    "number = tf.Variable(123, tf.int16)\n",
    "float_num = tf.Variable(12.34, tf.float64)\n",
    "\n",
    "#scalar tensors / rank 0"
   ]
  },
  {
   "cell_type": "code",
   "execution_count": 4,
   "id": "55ca5f5b-fe32-43c7-876c-452d07d2a73d",
   "metadata": {},
   "outputs": [],
   "source": [
    "rank1_tensor = tf.Variable([\"123\", \"hello\", \"yes\"], tf.string)\n",
    "rank2_tensor = tf.Variable([[\"4567\", \"ok\"], [\"no\", \"yes\"]], tf.string)\n",
    "\n"
   ]
  },
  {
   "cell_type": "code",
   "execution_count": 7,
   "id": "37cd85c1-4f0d-44e0-8caf-ae44bb542309",
   "metadata": {},
   "outputs": [
    {
     "data": {
      "text/plain": [
       "<tf.Tensor: shape=(), dtype=int32, numpy=2>"
      ]
     },
     "execution_count": 7,
     "metadata": {},
     "output_type": "execute_result"
    }
   ],
   "source": [
    "tf.rank(rank2_tensor)\n",
    "#determines rank"
   ]
  },
  {
   "cell_type": "markdown",
   "id": "e50cc17f-6197-478b-b46f-7f5ea55ae7ec",
   "metadata": {},
   "source": [
    "Shape of Tensors\n",
    "-tells us the amount of elem that are present in each dimension"
   ]
  },
  {
   "cell_type": "code",
   "execution_count": 8,
   "id": "8e94f411-19bf-403b-ae4a-8d459d50574b",
   "metadata": {},
   "outputs": [
    {
     "data": {
      "text/plain": [
       "TensorShape([2, 2])"
      ]
     },
     "execution_count": 8,
     "metadata": {},
     "output_type": "execute_result"
    }
   ],
   "source": [
    "rank2_tensor.shape"
   ]
  },
  {
   "cell_type": "code",
   "execution_count": 9,
   "id": "ddbc5815-6370-4b83-925a-a32298f6f733",
   "metadata": {},
   "outputs": [
    {
     "data": {
      "text/plain": [
       "TensorShape([3])"
      ]
     },
     "execution_count": 9,
     "metadata": {},
     "output_type": "execute_result"
    }
   ],
   "source": [
    "rank1_tensor.shape"
   ]
  },
  {
   "cell_type": "markdown",
   "id": "44d9d228-96a4-4add-a0e4-5a7170988c1f",
   "metadata": {},
   "source": [
    "Changing of shape"
   ]
  },
  {
   "cell_type": "code",
   "execution_count": 13,
   "id": "5e18d28d-ec8c-4cdb-91a6-8e287d27cf29",
   "metadata": {},
   "outputs": [],
   "source": [
    "tens1 = tf.ones([1,2,3]) #ones - 1 exterior list, 2 list inside of it, 3 elems in those 2 list\n",
    "tens2 = tf.reshape(tens1, [2,3,1])"
   ]
  },
  {
   "cell_type": "code",
   "execution_count": 14,
   "id": "8e879e41-0e96-440e-b6d4-003f525e5e84",
   "metadata": {},
   "outputs": [
    {
     "name": "stdout",
     "output_type": "stream",
     "text": [
      "tf.Tensor(\n",
      "[[[1. 1. 1.]\n",
      "  [1. 1. 1.]]], shape=(1, 2, 3), dtype=float32)\n",
      "tf.Tensor(\n",
      "[[[1.]\n",
      "  [1.]\n",
      "  [1.]]\n",
      "\n",
      " [[1.]\n",
      "  [1.]\n",
      "  [1.]]], shape=(2, 3, 1), dtype=float32)\n"
     ]
    }
   ],
   "source": [
    "print(tens1)\n",
    "print(tens2)"
   ]
  },
  {
   "cell_type": "code",
   "execution_count": 24,
   "id": "9a54bc96-669e-45c0-b6b2-fabca1413626",
   "metadata": {},
   "outputs": [
    {
     "name": "stdout",
     "output_type": "stream",
     "text": [
      "tf.Tensor(\n",
      "[[[[0. 0. 0. 0. 0.]\n",
      "   [0. 0. 0. 0. 0.]\n",
      "   [0. 0. 0. 0. 0.]\n",
      "   [0. 0. 0. 0. 0.]]\n",
      "\n",
      "  [[0. 0. 0. 0. 0.]\n",
      "   [0. 0. 0. 0. 0.]\n",
      "   [0. 0. 0. 0. 0.]\n",
      "   [0. 0. 0. 0. 0.]]]], shape=(1, 2, 4, 5), dtype=float32)\n"
     ]
    }
   ],
   "source": [
    "t1 = tf.zeros([1,2,4,5])\n",
    "print(t1)"
   ]
  },
  {
   "cell_type": "markdown",
   "id": "8721a268-73b7-4c47-8d19-2906addae503",
   "metadata": {},
   "source": [
    "Slicing Tensors"
   ]
  },
  {
   "cell_type": "code",
   "execution_count": 15,
   "id": "c3835cc3-329a-4db9-9617-4dadec1216cb",
   "metadata": {},
   "outputs": [
    {
     "name": "stdout",
     "output_type": "stream",
     "text": [
      "tf.Tensor(2, shape=(), dtype=int32)\n",
      "(4, 5)\n"
     ]
    }
   ],
   "source": [
    "matrix = [[1,2,3,4,5],\n",
    "          [6,7,8,9,10],\n",
    "          [11,12,13,14,15],\n",
    "          [16,17,18,19,20]]\n",
    "\n",
    "tensor = tf.Variable(matrix, dtype=tf.int32) \n",
    "print(tf.rank(tensor))\n",
    "print(tensor.shape)"
   ]
  },
  {
   "cell_type": "code",
   "execution_count": 16,
   "id": "4e53ac18-8625-4b73-abec-a63ffb5e87ff",
   "metadata": {},
   "outputs": [
    {
     "name": "stdout",
     "output_type": "stream",
     "text": [
      "tf.Tensor(3, shape=(), dtype=int32)\n"
     ]
    }
   ],
   "source": [
    "three = tensor[0,2]  # selects the 3rd element from the 1st row\n",
    "print(three)  "
   ]
  },
  {
   "cell_type": "code",
   "execution_count": 17,
   "id": "2e6e0014-27a3-4ec8-af28-baacfba0e310",
   "metadata": {},
   "outputs": [
    {
     "name": "stdout",
     "output_type": "stream",
     "text": [
      "tf.Tensor([1 2 3 4 5], shape=(5,), dtype=int32)\n"
     ]
    }
   ],
   "source": [
    "row1 = tensor[0] \n",
    "print(row1)"
   ]
  },
  {
   "cell_type": "code",
   "execution_count": 18,
   "id": "d4c1b074-3c84-472a-88ad-b2696a92b13d",
   "metadata": {},
   "outputs": [
    {
     "name": "stdout",
     "output_type": "stream",
     "text": [
      "tf.Tensor([ 1  6 11 16], shape=(4,), dtype=int32)\n"
     ]
    }
   ],
   "source": [
    "column1 = tensor[:, 0]  # selects the first column\n",
    "print(column1)"
   ]
  },
  {
   "cell_type": "code",
   "execution_count": 20,
   "id": "22e811bf-ef06-4faf-8eb9-dab9e3c706b7",
   "metadata": {},
   "outputs": [
    {
     "name": "stdout",
     "output_type": "stream",
     "text": [
      "tf.Tensor(\n",
      "[[ 6  7  8  9 10]\n",
      " [16 17 18 19 20]], shape=(2, 5), dtype=int32)\n"
     ]
    }
   ],
   "source": [
    "row2and4 = tensor[1::2]  # selects second and fourth row\n",
    "print(row2and4)"
   ]
  },
  {
   "cell_type": "code",
   "execution_count": null,
   "id": "72225338-6a04-47b4-84a0-d765e0fb097a",
   "metadata": {},
   "outputs": [],
   "source": []
  }
 ],
 "metadata": {
  "kernelspec": {
   "display_name": "Python 3 (ipykernel)",
   "language": "python",
   "name": "python3"
  },
  "language_info": {
   "codemirror_mode": {
    "name": "ipython",
    "version": 3
   },
   "file_extension": ".py",
   "mimetype": "text/x-python",
   "name": "python",
   "nbconvert_exporter": "python",
   "pygments_lexer": "ipython3",
   "version": "3.11.5"
  }
 },
 "nbformat": 4,
 "nbformat_minor": 5
}
